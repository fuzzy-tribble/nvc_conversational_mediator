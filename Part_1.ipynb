{
 "cells": [
  {
   "cell_type": "markdown",
   "metadata": {},
   "source": [
    "# Automated NVC Conversational Mediator\n",
    "## Part 1 - proof of concept; can it work\n",
    "\n",
    "**Purpose:** NVC uses a very standardized communication language to express feelings and needs. It is possible that this feature of NVC can be leveraged to automate some aspects of NVC conversations. The purpose of this notebook is to explore what is possible and how it may work.\n",
    "\n",
    "**Instructions:**\n",
    "Go through read and run all the cells (hit play or Shift+Enter)"
   ]
  },
  {
   "cell_type": "markdown",
   "metadata": {},
   "source": [
    "# 👉 Load Packages and NVC Data Files\n",
    "These are needed for the program to run"
   ]
  },
  {
   "cell_type": "code",
   "execution_count": 1,
   "metadata": {},
   "outputs": [],
   "source": [
    "# Verify python and pip are running from your jupyter env (optional)\n",
    "# !which python3\n",
    "# !which pip3"
   ]
  },
  {
   "cell_type": "code",
   "execution_count": 2,
   "metadata": {},
   "outputs": [],
   "source": [
    "# Install packages\n",
    "# !pip3 install nltk, pandas, pyttsx3\n",
    "# !python3 -m spacy download en"
   ]
  },
  {
   "cell_type": "code",
   "execution_count": 40,
   "metadata": {},
   "outputs": [],
   "source": [
    "# Import packages\n",
    "import nltk\n",
    "from nltk.stem import PorterStemmer\n",
    "import pattern.en as en  # I like their lemma builder\n",
    "\n",
    "import spacy\n",
    "from spacy import displacy\n",
    "\n",
    "import pyttsx3\n",
    "\n",
    "import pandas as pd\n",
    "import numpy as np\n",
    "\n",
    "from enum import Enum\n",
    "import re, time"
   ]
  },
  {
   "cell_type": "code",
   "execution_count": 39,
   "metadata": {},
   "outputs": [],
   "source": [
    "# Initialize tools\n",
    "engine = pyttsx3.init()\n",
    "nlp = spacy.load(\"en\")\n",
    "ps = PorterStemmer()"
   ]
  },
  {
   "cell_type": "markdown",
   "metadata": {},
   "source": [
    "## Load NVC Language Data \n",
    "\n",
    "This is a datafile containing keywords and phrases that will be captured when speaking. These keywords/phrases will help us \n",
    "\n",
    "* categorize the user input (feeling, need, fofeeling, request), \n",
    "* if it is a feeling, tell us if it is a feeling that happens when our needs are unmet\n",
    "* if it is a fofeeling, make some feeling guesses\n",
    "* etc. (more can be developed)"
   ]
  },
  {
   "cell_type": "markdown",
   "metadata": {},
   "source": [
    "First, load the datafile that contains the nvc key words"
   ]
  },
  {
   "cell_type": "code",
   "execution_count": null,
   "metadata": {},
   "outputs": [],
   "source": [
    "# Load json datafile\n",
    "kw_data = pd.read_csv(\"data/kw_datafile.csv\", index_col='kw')\n",
    "\n",
    "# Lowercase everything\n",
    "kw_data.index = kw_data.index.str.lower()\n",
    "kw_data = kw_data.apply(lambda x: x.str.lower(), axis=1)\n",
    "\n",
    "# Check for duplicates - TODO\n",
    "# kw_data[kw_data.duplicated(subset=None)]\n",
    "# # kw_data.drop_duplicates()\n",
    "\n",
    "kw_data.sample(3)"
   ]
  },
  {
   "cell_type": "code",
   "execution_count": 7,
   "metadata": {},
   "outputs": [],
   "source": [
    "# Create keyword stems (for syntactical analysis later) and set the stems as the index\n",
    "kw_data['kws'] = [en.lexeme(word) for word in kw_data.index]"
   ]
  },
  {
   "cell_type": "code",
   "execution_count": 8,
   "metadata": {},
   "outputs": [],
   "source": [
    "kw_data['kw_base'] = [en.lemma(word) for word in kw_data.index]\n",
    "kw_data = kw_data.set_index('kw_base')"
   ]
  },
  {
   "cell_type": "code",
   "execution_count": 9,
   "metadata": {},
   "outputs": [
    {
     "data": {
      "text/html": [
       "<div>\n",
       "<style scoped>\n",
       "    .dataframe tbody tr th:only-of-type {\n",
       "        vertical-align: middle;\n",
       "    }\n",
       "\n",
       "    .dataframe tbody tr th {\n",
       "        vertical-align: top;\n",
       "    }\n",
       "\n",
       "    .dataframe thead th {\n",
       "        text-align: right;\n",
       "    }\n",
       "</style>\n",
       "<table border=\"1\" class=\"dataframe\">\n",
       "  <thead>\n",
       "    <tr style=\"text-align: right;\">\n",
       "      <th></th>\n",
       "      <th>category</th>\n",
       "      <th>needs_met</th>\n",
       "      <th>feelings_guesses</th>\n",
       "      <th>needs_guesses</th>\n",
       "      <th>kws</th>\n",
       "    </tr>\n",
       "    <tr>\n",
       "      <th>kw_base</th>\n",
       "      <th></th>\n",
       "      <th></th>\n",
       "      <th></th>\n",
       "      <th></th>\n",
       "      <th></th>\n",
       "    </tr>\n",
       "  </thead>\n",
       "  <tbody>\n",
       "    <tr>\n",
       "      <th>neglect</th>\n",
       "      <td>fofeeling</td>\n",
       "      <td>na</td>\n",
       "      <td>lonely, angry, scared</td>\n",
       "      <td>connection, inclusion, belonging, acceptance</td>\n",
       "      <td>[neglect, neglects, neglecting, neglected]</td>\n",
       "    </tr>\n",
       "    <tr>\n",
       "      <th>rest</th>\n",
       "      <td>need</td>\n",
       "      <td>na</td>\n",
       "      <td>na</td>\n",
       "      <td>na</td>\n",
       "      <td>[rest, rests, resting, rested]</td>\n",
       "    </tr>\n",
       "    <tr>\n",
       "      <th>jittery</th>\n",
       "      <td>feeling</td>\n",
       "      <td>no</td>\n",
       "      <td>na</td>\n",
       "      <td>na</td>\n",
       "      <td>[jittery, jitteries, jitterying, jitteried]</td>\n",
       "    </tr>\n",
       "    <tr>\n",
       "      <th>miserable</th>\n",
       "      <td>feeling</td>\n",
       "      <td>no</td>\n",
       "      <td>na</td>\n",
       "      <td>na</td>\n",
       "      <td>[miserable, miserables, miserabling, miserabled]</td>\n",
       "    </tr>\n",
       "    <tr>\n",
       "      <th>outrage</th>\n",
       "      <td>feeling</td>\n",
       "      <td>no</td>\n",
       "      <td>na</td>\n",
       "      <td>na</td>\n",
       "      <td>[outrage, outrages, outraging, outraged]</td>\n",
       "    </tr>\n",
       "    <tr>\n",
       "      <th>irk</th>\n",
       "      <td>feeling</td>\n",
       "      <td>no</td>\n",
       "      <td>na</td>\n",
       "      <td>na</td>\n",
       "      <td>[irk, irks, irking, irked]</td>\n",
       "    </tr>\n",
       "    <tr>\n",
       "      <th>authenticity</th>\n",
       "      <td>need</td>\n",
       "      <td>na</td>\n",
       "      <td>na</td>\n",
       "      <td>na</td>\n",
       "      <td>[authenticity, authenticities, authenticitying...</td>\n",
       "    </tr>\n",
       "    <tr>\n",
       "      <th>upset</th>\n",
       "      <td>feeling</td>\n",
       "      <td>no</td>\n",
       "      <td>na</td>\n",
       "      <td>na</td>\n",
       "      <td>[upset, upsets, upsetting]</td>\n",
       "    </tr>\n",
       "    <tr>\n",
       "      <th>water</th>\n",
       "      <td>need</td>\n",
       "      <td>na</td>\n",
       "      <td>na</td>\n",
       "      <td>na</td>\n",
       "      <td>[water, waters, watering, watered]</td>\n",
       "    </tr>\n",
       "    <tr>\n",
       "      <th>mean</th>\n",
       "      <td>need</td>\n",
       "      <td>na</td>\n",
       "      <td>na</td>\n",
       "      <td>na</td>\n",
       "      <td>[mean, means, meaning, meant]</td>\n",
       "    </tr>\n",
       "  </tbody>\n",
       "</table>\n",
       "</div>"
      ],
      "text/plain": [
       "               category needs_met       feelings_guesses  \\\n",
       "kw_base                                                    \n",
       "neglect       fofeeling        na  lonely, angry, scared   \n",
       "rest               need        na                     na   \n",
       "jittery         feeling        no                     na   \n",
       "miserable       feeling        no                     na   \n",
       "outrage         feeling        no                     na   \n",
       "irk             feeling        no                     na   \n",
       "authenticity       need        na                     na   \n",
       "upset           feeling        no                     na   \n",
       "water              need        na                     na   \n",
       "mean               need        na                     na   \n",
       "\n",
       "                                             needs_guesses  \\\n",
       "kw_base                                                      \n",
       "neglect       connection, inclusion, belonging, acceptance   \n",
       "rest                                                    na   \n",
       "jittery                                                 na   \n",
       "miserable                                               na   \n",
       "outrage                                                 na   \n",
       "irk                                                     na   \n",
       "authenticity                                            na   \n",
       "upset                                                   na   \n",
       "water                                                   na   \n",
       "mean                                                    na   \n",
       "\n",
       "                                                            kws  \n",
       "kw_base                                                          \n",
       "neglect              [neglect, neglects, neglecting, neglected]  \n",
       "rest                             [rest, rests, resting, rested]  \n",
       "jittery             [jittery, jitteries, jitterying, jitteried]  \n",
       "miserable      [miserable, miserables, miserabling, miserabled]  \n",
       "outrage                [outrage, outrages, outraging, outraged]  \n",
       "irk                                  [irk, irks, irking, irked]  \n",
       "authenticity  [authenticity, authenticities, authenticitying...  \n",
       "upset                                [upset, upsets, upsetting]  \n",
       "water                        [water, waters, watering, watered]  \n",
       "mean                              [mean, means, meaning, meant]  "
      ]
     },
     "execution_count": 9,
     "metadata": {},
     "output_type": "execute_result"
    }
   ],
   "source": [
    "kw_data.sample(10)"
   ]
  },
  {
   "cell_type": "markdown",
   "metadata": {},
   "source": [
    "Then, load the datafile that contains the nvc key phrases"
   ]
  },
  {
   "cell_type": "code",
   "execution_count": 10,
   "metadata": {},
   "outputs": [
    {
     "data": {
      "text/html": [
       "<div>\n",
       "<style scoped>\n",
       "    .dataframe tbody tr th:only-of-type {\n",
       "        vertical-align: middle;\n",
       "    }\n",
       "\n",
       "    .dataframe tbody tr th {\n",
       "        vertical-align: top;\n",
       "    }\n",
       "\n",
       "    .dataframe thead th {\n",
       "        text-align: right;\n",
       "    }\n",
       "</style>\n",
       "<table border=\"1\" class=\"dataframe\">\n",
       "  <thead>\n",
       "    <tr style=\"text-align: right;\">\n",
       "      <th></th>\n",
       "      <th>category</th>\n",
       "      <th>feedback</th>\n",
       "      <th>needs_met</th>\n",
       "      <th>feelings_guesses</th>\n",
       "      <th>needs_guesses</th>\n",
       "    </tr>\n",
       "    <tr>\n",
       "      <th>kp</th>\n",
       "      <th></th>\n",
       "      <th></th>\n",
       "      <th></th>\n",
       "      <th></th>\n",
       "      <th></th>\n",
       "    </tr>\n",
       "  </thead>\n",
       "  <tbody>\n",
       "    <tr>\n",
       "      <th>i need you to</th>\n",
       "      <td>thought</td>\n",
       "      <td>our needs are our own; they exist within us an...</td>\n",
       "      <td>NaN</td>\n",
       "      <td>NaN</td>\n",
       "      <td>NaN</td>\n",
       "    </tr>\n",
       "    <tr>\n",
       "      <th>you really need to</th>\n",
       "      <td>NaN</td>\n",
       "      <td>NaN</td>\n",
       "      <td>NaN</td>\n",
       "      <td>NaN</td>\n",
       "      <td>NaN</td>\n",
       "    </tr>\n",
       "    <tr>\n",
       "      <th>to be known</th>\n",
       "      <td>need</td>\n",
       "      <td>na</td>\n",
       "      <td>na</td>\n",
       "      <td>na</td>\n",
       "      <td>na</td>\n",
       "    </tr>\n",
       "  </tbody>\n",
       "</table>\n",
       "</div>"
      ],
      "text/plain": [
       "                   category  \\\n",
       "kp                            \n",
       "i need you to       thought   \n",
       "you really need to      NaN   \n",
       "to be known            need   \n",
       "\n",
       "                                                             feedback  \\\n",
       "kp                                                                      \n",
       "i need you to       our needs are our own; they exist within us an...   \n",
       "you really need to                                                NaN   \n",
       "to be known                                                        na   \n",
       "\n",
       "                   needs_met feelings_guesses needs_guesses  \n",
       "kp                                                           \n",
       "i need you to            NaN              NaN           NaN  \n",
       "you really need to       NaN              NaN           NaN  \n",
       "to be known               na               na            na  "
      ]
     },
     "execution_count": 10,
     "metadata": {},
     "output_type": "execute_result"
    }
   ],
   "source": [
    "# Load json datafile\n",
    "kp_data = pd.read_csv(\"data/kp_datafile.csv\", index_col='kp')\n",
    "\n",
    "# Lowercase everything\n",
    "kp_data.index = kp_data.index.str.lower()\n",
    "kp_data.apply(lambda x: x.str.lower(), axis=1)\n",
    "\n",
    "# Check for duplicates - TODO\n",
    "\n",
    "kp_data.sample(3)"
   ]
  },
  {
   "cell_type": "code",
   "execution_count": 11,
   "metadata": {},
   "outputs": [],
   "source": [
    "kp_data['kps'] = [en.lexeme(word) for word in kp_data.index]"
   ]
  },
  {
   "cell_type": "code",
   "execution_count": 12,
   "metadata": {},
   "outputs": [],
   "source": [
    "kp_data['kp_base'] = [en.lemma(word) for word in kp_data.index]\n",
    "kp_data = kp_data.set_index('kp_base')"
   ]
  },
  {
   "cell_type": "code",
   "execution_count": 13,
   "metadata": {},
   "outputs": [
    {
     "data": {
      "text/html": [
       "<div>\n",
       "<style scoped>\n",
       "    .dataframe tbody tr th:only-of-type {\n",
       "        vertical-align: middle;\n",
       "    }\n",
       "\n",
       "    .dataframe tbody tr th {\n",
       "        vertical-align: top;\n",
       "    }\n",
       "\n",
       "    .dataframe thead th {\n",
       "        text-align: right;\n",
       "    }\n",
       "</style>\n",
       "<table border=\"1\" class=\"dataframe\">\n",
       "  <thead>\n",
       "    <tr style=\"text-align: right;\">\n",
       "      <th></th>\n",
       "      <th>category</th>\n",
       "      <th>feedback</th>\n",
       "      <th>needs_met</th>\n",
       "      <th>feelings_guesses</th>\n",
       "      <th>needs_guesses</th>\n",
       "      <th>kps</th>\n",
       "    </tr>\n",
       "    <tr>\n",
       "      <th>kp_base</th>\n",
       "      <th></th>\n",
       "      <th></th>\n",
       "      <th></th>\n",
       "      <th></th>\n",
       "      <th></th>\n",
       "      <th></th>\n",
       "    </tr>\n",
       "  </thead>\n",
       "  <tbody>\n",
       "    <tr>\n",
       "      <th>feel like</th>\n",
       "      <td>evaluation</td>\n",
       "      <td>something in me feels</td>\n",
       "      <td>na</td>\n",
       "      <td>na</td>\n",
       "      <td>na</td>\n",
       "      <td>[feel like, feel likes, feel liking, feel liked]</td>\n",
       "    </tr>\n",
       "    <tr>\n",
       "      <th>like that</th>\n",
       "      <td>NaN</td>\n",
       "      <td>NaN</td>\n",
       "      <td>NaN</td>\n",
       "      <td>NaN</td>\n",
       "      <td>NaN</td>\n",
       "      <td>[like that, like thats, like thatting, like th...</td>\n",
       "    </tr>\n",
       "    <tr>\n",
       "      <th>you really need to</th>\n",
       "      <td>NaN</td>\n",
       "      <td>NaN</td>\n",
       "      <td>NaN</td>\n",
       "      <td>NaN</td>\n",
       "      <td>NaN</td>\n",
       "      <td>[you really need to, you really need tos, you ...</td>\n",
       "    </tr>\n",
       "    <tr>\n",
       "      <th>to be seen</th>\n",
       "      <td>need</td>\n",
       "      <td>na</td>\n",
       "      <td>na</td>\n",
       "      <td>na</td>\n",
       "      <td>na</td>\n",
       "      <td>[to be seen, to be seens, to be seening, to be...</td>\n",
       "    </tr>\n",
       "    <tr>\n",
       "      <th>to be heard</th>\n",
       "      <td>need</td>\n",
       "      <td>na</td>\n",
       "      <td>na</td>\n",
       "      <td>na</td>\n",
       "      <td>na</td>\n",
       "      <td>[to be heard, to be heards, to be hearding, to...</td>\n",
       "    </tr>\n",
       "  </tbody>\n",
       "</table>\n",
       "</div>"
      ],
      "text/plain": [
       "                      category               feedback needs_met  \\\n",
       "kp_base                                                           \n",
       "feel like           evaluation  something in me feels        na   \n",
       "like that                  NaN                    NaN       NaN   \n",
       "you really need to         NaN                    NaN       NaN   \n",
       "to be seen                need                     na        na   \n",
       "to be heard               need                     na        na   \n",
       "\n",
       "                   feelings_guesses needs_guesses  \\\n",
       "kp_base                                             \n",
       "feel like                        na            na   \n",
       "like that                       NaN           NaN   \n",
       "you really need to              NaN           NaN   \n",
       "to be seen                       na            na   \n",
       "to be heard                      na            na   \n",
       "\n",
       "                                                                  kps  \n",
       "kp_base                                                                \n",
       "feel like            [feel like, feel likes, feel liking, feel liked]  \n",
       "like that           [like that, like thats, like thatting, like th...  \n",
       "you really need to  [you really need to, you really need tos, you ...  \n",
       "to be seen          [to be seen, to be seens, to be seening, to be...  \n",
       "to be heard         [to be heard, to be heards, to be hearding, to...  "
      ]
     },
     "execution_count": 13,
     "metadata": {},
     "output_type": "execute_result"
    }
   ],
   "source": [
    "kp_data.sample(5)"
   ]
  },
  {
   "cell_type": "markdown",
   "metadata": {},
   "source": [
    "Okay! Now our datafiles are loaded, cleaned up and we can get started."
   ]
  },
  {
   "cell_type": "markdown",
   "metadata": {},
   "source": [
    "# 👉 Attempt 1: NVC Feedback from Syntactical Analysis\n",
    "\n",
    "Using syntactical analysis we can extract the basic information from a user's statement (ie the subject, the feeling/fofeeling/need, and also sometimes provide feelings/needs guesses in the case of a fofeeling). Let's see how far we can take syntactical analysis in helping us get feedback about our input statement.\n",
    "\n",
    "**Objective** - this part is about taking potentially non-NVC input sentences and giving feedback (if needed) to help guide a user through turning them into NVC sentences. Hopefully we can do this using keywords/phrases data as well as looking at parts of speech."
   ]
  },
  {
   "cell_type": "markdown",
   "metadata": {},
   "source": [
    "## Using POS Tags, Keywords and Phrases\n",
    "\n",
    "**Objective** Categorize feeling, needs, evaluations, fofeelings, absolutes, etc. based on data provided about common keywords and phrases"
   ]
  },
  {
   "cell_type": "markdown",
   "metadata": {},
   "source": [
    "**Examples**\n",
    "\n",
    "If the user says: *You manipulated me!* The system can tell us:\n",
    "* 'manipulated' is a fofeeling\n",
    "* provide somefeelings guesses\n",
    "\n",
    "If the user says: *I am in a peaceful state.* The system can tell us:\n",
    "* 'peacefulness' is a feeling\n",
    "* there are no unmet needs\n",
    "\n",
    "If the user says: *I would like some empathy.* The system can tell us:\n",
    "* this is a need request for 'empathy'"
   ]
  },
  {
   "cell_type": "markdown",
   "metadata": {},
   "source": [
    "Try typing an input statement into the text box after running the cell below. The input statement can be NVC language or not NVC lanauge. The point is it should be something that someone says to another person when trying to express how they feel.\n",
    "\n",
    "(Ex. \"I hate it when you slam the door like that!\" or \"You make me feel ugly\" or \"I feel like you manipulate all the time\" or \"I need you to speak softly\")"
   ]
  },
  {
   "cell_type": "code",
   "execution_count": 44,
   "metadata": {},
   "outputs": [
    {
     "name": "stdin",
     "output_type": "stream",
     "text": [
      " I am feeling compassionate\n"
     ]
    }
   ],
   "source": [
    "# Type an input statement\n",
    "sent=input()\n",
    "sent = sent.lower()"
   ]
  },
  {
   "cell_type": "markdown",
   "metadata": {},
   "source": [
    "Let's do some pre-processing on the sentence you input"
   ]
  },
  {
   "cell_type": "code",
   "execution_count": 45,
   "metadata": {},
   "outputs": [
    {
     "data": {
      "text/html": [
       "<span class=\"tex2jax_ignore\"><svg xmlns=\"http://www.w3.org/2000/svg\" xmlns:xlink=\"http://www.w3.org/1999/xlink\" xml:lang=\"en\" id=\"33af85cfef584e8a9076d163f30dcd80-0\" class=\"displacy\" width=\"750\" height=\"312.0\" direction=\"ltr\" style=\"max-width: none; height: 312.0px; color: #000000; background: #ffffff; font-family: Arial; direction: ltr\">\n",
       "<text class=\"displacy-token\" fill=\"currentColor\" text-anchor=\"middle\" y=\"222.0\">\n",
       "    <tspan class=\"displacy-word\" fill=\"currentColor\" x=\"50\">i</tspan>\n",
       "    <tspan class=\"displacy-tag\" dy=\"2em\" fill=\"currentColor\" x=\"50\">PRON</tspan>\n",
       "</text>\n",
       "\n",
       "<text class=\"displacy-token\" fill=\"currentColor\" text-anchor=\"middle\" y=\"222.0\">\n",
       "    <tspan class=\"displacy-word\" fill=\"currentColor\" x=\"225\">am</tspan>\n",
       "    <tspan class=\"displacy-tag\" dy=\"2em\" fill=\"currentColor\" x=\"225\">AUX</tspan>\n",
       "</text>\n",
       "\n",
       "<text class=\"displacy-token\" fill=\"currentColor\" text-anchor=\"middle\" y=\"222.0\">\n",
       "    <tspan class=\"displacy-word\" fill=\"currentColor\" x=\"400\">feeling</tspan>\n",
       "    <tspan class=\"displacy-tag\" dy=\"2em\" fill=\"currentColor\" x=\"400\">VERB</tspan>\n",
       "</text>\n",
       "\n",
       "<text class=\"displacy-token\" fill=\"currentColor\" text-anchor=\"middle\" y=\"222.0\">\n",
       "    <tspan class=\"displacy-word\" fill=\"currentColor\" x=\"575\">compassionate</tspan>\n",
       "    <tspan class=\"displacy-tag\" dy=\"2em\" fill=\"currentColor\" x=\"575\">ADJ</tspan>\n",
       "</text>\n",
       "\n",
       "<g class=\"displacy-arrow\">\n",
       "    <path class=\"displacy-arc\" id=\"arrow-33af85cfef584e8a9076d163f30dcd80-0-0\" stroke-width=\"2px\" d=\"M70,177.0 C70,2.0 400.0,2.0 400.0,177.0\" fill=\"none\" stroke=\"currentColor\"/>\n",
       "    <text dy=\"1.25em\" style=\"font-size: 0.8em; letter-spacing: 1px\">\n",
       "        <textPath xlink:href=\"#arrow-33af85cfef584e8a9076d163f30dcd80-0-0\" class=\"displacy-label\" startOffset=\"50%\" side=\"left\" fill=\"currentColor\" text-anchor=\"middle\">nsubj</textPath>\n",
       "    </text>\n",
       "    <path class=\"displacy-arrowhead\" d=\"M70,179.0 L62,167.0 78,167.0\" fill=\"currentColor\"/>\n",
       "</g>\n",
       "\n",
       "<g class=\"displacy-arrow\">\n",
       "    <path class=\"displacy-arc\" id=\"arrow-33af85cfef584e8a9076d163f30dcd80-0-1\" stroke-width=\"2px\" d=\"M245,177.0 C245,89.5 395.0,89.5 395.0,177.0\" fill=\"none\" stroke=\"currentColor\"/>\n",
       "    <text dy=\"1.25em\" style=\"font-size: 0.8em; letter-spacing: 1px\">\n",
       "        <textPath xlink:href=\"#arrow-33af85cfef584e8a9076d163f30dcd80-0-1\" class=\"displacy-label\" startOffset=\"50%\" side=\"left\" fill=\"currentColor\" text-anchor=\"middle\">aux</textPath>\n",
       "    </text>\n",
       "    <path class=\"displacy-arrowhead\" d=\"M245,179.0 L237,167.0 253,167.0\" fill=\"currentColor\"/>\n",
       "</g>\n",
       "\n",
       "<g class=\"displacy-arrow\">\n",
       "    <path class=\"displacy-arc\" id=\"arrow-33af85cfef584e8a9076d163f30dcd80-0-2\" stroke-width=\"2px\" d=\"M420,177.0 C420,89.5 570.0,89.5 570.0,177.0\" fill=\"none\" stroke=\"currentColor\"/>\n",
       "    <text dy=\"1.25em\" style=\"font-size: 0.8em; letter-spacing: 1px\">\n",
       "        <textPath xlink:href=\"#arrow-33af85cfef584e8a9076d163f30dcd80-0-2\" class=\"displacy-label\" startOffset=\"50%\" side=\"left\" fill=\"currentColor\" text-anchor=\"middle\">acomp</textPath>\n",
       "    </text>\n",
       "    <path class=\"displacy-arrowhead\" d=\"M570.0,179.0 L578.0,167.0 562.0,167.0\" fill=\"currentColor\"/>\n",
       "</g>\n",
       "</svg></span>"
      ],
      "text/plain": [
       "<IPython.core.display.HTML object>"
      ]
     },
     "metadata": {},
     "output_type": "display_data"
    }
   ],
   "source": [
    "doc = nlp(sent)\n",
    "displacy.render(doc, style=\"dep\", jupyter=True)"
   ]
  },
  {
   "cell_type": "code",
   "execution_count": 46,
   "metadata": {},
   "outputs": [
    {
     "data": {
      "text/html": [
       "<div>\n",
       "<style scoped>\n",
       "    .dataframe tbody tr th:only-of-type {\n",
       "        vertical-align: middle;\n",
       "    }\n",
       "\n",
       "    .dataframe tbody tr th {\n",
       "        vertical-align: top;\n",
       "    }\n",
       "\n",
       "    .dataframe thead th {\n",
       "        text-align: right;\n",
       "    }\n",
       "</style>\n",
       "<table border=\"1\" class=\"dataframe\">\n",
       "  <thead>\n",
       "    <tr style=\"text-align: right;\">\n",
       "      <th></th>\n",
       "      <th>lemma</th>\n",
       "      <th>stem</th>\n",
       "      <th>pos</th>\n",
       "      <th>tag</th>\n",
       "      <th>dep</th>\n",
       "    </tr>\n",
       "  </thead>\n",
       "  <tbody>\n",
       "    <tr>\n",
       "      <th>i</th>\n",
       "      <td>i</td>\n",
       "      <td>i</td>\n",
       "      <td>PRON</td>\n",
       "      <td>PRP</td>\n",
       "      <td>nsubj</td>\n",
       "    </tr>\n",
       "    <tr>\n",
       "      <th>am</th>\n",
       "      <td>be</td>\n",
       "      <td>am</td>\n",
       "      <td>AUX</td>\n",
       "      <td>VBP</td>\n",
       "      <td>aux</td>\n",
       "    </tr>\n",
       "    <tr>\n",
       "      <th>feeling</th>\n",
       "      <td>feel</td>\n",
       "      <td>feel</td>\n",
       "      <td>VERB</td>\n",
       "      <td>VBG</td>\n",
       "      <td>ROOT</td>\n",
       "    </tr>\n",
       "    <tr>\n",
       "      <th>compassionate</th>\n",
       "      <td>compassionate</td>\n",
       "      <td>compassion</td>\n",
       "      <td>ADJ</td>\n",
       "      <td>JJ</td>\n",
       "      <td>acomp</td>\n",
       "    </tr>\n",
       "  </tbody>\n",
       "</table>\n",
       "</div>"
      ],
      "text/plain": [
       "                       lemma        stem   pos  tag    dep\n",
       "i                          i           i  PRON  PRP  nsubj\n",
       "am                        be          am   AUX  VBP    aux\n",
       "feeling                 feel        feel  VERB  VBG   ROOT\n",
       "compassionate  compassionate  compassion   ADJ   JJ  acomp"
      ]
     },
     "execution_count": 46,
     "metadata": {},
     "output_type": "execute_result"
    }
   ],
   "source": [
    "def get_res(doc):\n",
    "    words = [tok.text for tok in doc]\n",
    "    data = [[tok.lemma_, ps.stem(tok.text), tok.pos_, tok.tag_, tok.dep_] for tok in doc]\n",
    "    res = pd.DataFrame(index=words, data=data, columns=['lemma', 'stem', 'pos', 'tag', 'dep'])\n",
    "    return res\n",
    "\n",
    "res = get_res(doc)\n",
    "res"
   ]
  },
  {
   "cell_type": "markdown",
   "metadata": {},
   "source": [
    "Check for adverbs and adjectives because often these are evaluations (descriptors) rather than feelings, needs, or observations.\n",
    "\n",
    "**POS Tag Key**\n",
    "\n",
    "| TAG  | POS                                                                      | Examples           |\n",
    "|------|--------------------------------------------------------------------------|--------------------|\n",
    "| CC   | coordinating conjunction                                                 |                    |\n",
    "| CD   | cardinal digit                                                           |                    |\n",
    "| DT   | determiner                                                               |                    |\n",
    "| EX   | existential there (like: \"there is\" ... think of it like \"there exists\") |                    |\n",
    "| FW   | foreign word                                                             |                    |\n",
    "| IN   | preposition/subordinating conjunction                                    |                    |\n",
    "| **JJ**   | adjective                                                                | 'big'              |\n",
    "| **JJR**  | adjective, comparative                                                   | 'bigger'           |\n",
    "| **JJS**  | adjective, superlative                                                   | 'biggest'          |\n",
    "| LS   | list marker                                                              | 1)                 |\n",
    "| MD   | modal                                                                    | could, will        |\n",
    "| NN   | noun, singular 'desk'                                                    |                    |\n",
    "| NNS  | noun plural                                                              | 'desks'            |\n",
    "| NNP  | proper noun, singular                                                    | 'Harrison'         |\n",
    "| NNPS | proper noun, plural                                                      | 'Americans'        |\n",
    "| PDT  | predeterminer                                                            | 'all the kids'     |\n",
    "| POS  | possessive ending                                                        | parent\\'s          |\n",
    "| PRP  | personal pronoun                                                         | I, he, she         |\n",
    "| PRP  | possessive pronoun                                                       | my, his, hers      |\n",
    "| **RB**   | adverb                                                                   | very, silently,    |\n",
    "| **RBR**  | adverb, comparative                                                      | better             |\n",
    "| **RBS**  | adverb, superlative                                                      | best               |\n",
    "| RP   | particle                                                                 | give up            |\n",
    "| TO   | to                                                                       | go 'to' the store. |\n",
    "| UH   | interjection                                                             | errrrrrrrm         |\n",
    "| VB   | verb, base form                                                          | take               |\n",
    "| VBD  | verb, past tense                                                         | took               |\n",
    "| VBG  | verb, gerund/present participle                                          | taking             |\n",
    "| VBN  | verb, past participle                                                    | taken              |\n",
    "| VBP  | verb, sing. present, non-3d                                              | take               |\n",
    "| VBZ  | verb, 3rd person sing. present                                           | takes              |\n",
    "| WDT  | wh-determiner                                                            | which              |\n",
    "| WP   | wh-pronoun                                                               | who, what          |\n",
    "| WP$  | possessive wh-pronoun                                                    | whose              |\n",
    "| WRB  | wh-abverb                                                                | where, when        |\n",
    "\n",
    "*Src: https://pythonprogramming.net/part-of-speech-tagging-nltk-tutorial/*"
   ]
  },
  {
   "cell_type": "code",
   "execution_count": 47,
   "metadata": {},
   "outputs": [
    {
     "data": {
      "text/html": [
       "<div>\n",
       "<style scoped>\n",
       "    .dataframe tbody tr th:only-of-type {\n",
       "        vertical-align: middle;\n",
       "    }\n",
       "\n",
       "    .dataframe tbody tr th {\n",
       "        vertical-align: top;\n",
       "    }\n",
       "\n",
       "    .dataframe thead th {\n",
       "        text-align: right;\n",
       "    }\n",
       "</style>\n",
       "<table border=\"1\" class=\"dataframe\">\n",
       "  <thead>\n",
       "    <tr style=\"text-align: right;\">\n",
       "      <th></th>\n",
       "      <th>lemma</th>\n",
       "      <th>stem</th>\n",
       "      <th>pos</th>\n",
       "      <th>tag</th>\n",
       "      <th>dep</th>\n",
       "    </tr>\n",
       "  </thead>\n",
       "  <tbody>\n",
       "    <tr>\n",
       "      <th>compassionate</th>\n",
       "      <td>compassionate</td>\n",
       "      <td>compassion</td>\n",
       "      <td>ADJ</td>\n",
       "      <td>JJ</td>\n",
       "      <td>acomp</td>\n",
       "    </tr>\n",
       "  </tbody>\n",
       "</table>\n",
       "</div>"
      ],
      "text/plain": [
       "                       lemma        stem  pos tag    dep\n",
       "compassionate  compassionate  compassion  ADJ  JJ  acomp"
      ]
     },
     "execution_count": 47,
     "metadata": {},
     "output_type": "execute_result"
    }
   ],
   "source": [
    "r = re.compile(r'(JJ.*)|(RB.*)')\n",
    "pos = res.loc[res.tag.apply(lambda x: bool(r.match(x))) == True]\n",
    "pos"
   ]
  },
  {
   "cell_type": "markdown",
   "metadata": {},
   "source": [
    "Check for words ending in \"ly\", these tend to be evaluations also (softly, annoyingly, etc). We could try using this in conjunction with looking for the specific parts of speech. Maybe if could give us a better result sometimes."
   ]
  },
  {
   "cell_type": "code",
   "execution_count": 50,
   "metadata": {},
   "outputs": [
    {
     "data": {
      "text/html": [
       "<div>\n",
       "<style scoped>\n",
       "    .dataframe tbody tr th:only-of-type {\n",
       "        vertical-align: middle;\n",
       "    }\n",
       "\n",
       "    .dataframe tbody tr th {\n",
       "        vertical-align: top;\n",
       "    }\n",
       "\n",
       "    .dataframe thead th {\n",
       "        text-align: right;\n",
       "    }\n",
       "</style>\n",
       "<table border=\"1\" class=\"dataframe\">\n",
       "  <thead>\n",
       "    <tr style=\"text-align: right;\">\n",
       "      <th></th>\n",
       "      <th>lemma</th>\n",
       "      <th>stem</th>\n",
       "      <th>pos</th>\n",
       "      <th>tag</th>\n",
       "      <th>dep</th>\n",
       "    </tr>\n",
       "  </thead>\n",
       "  <tbody>\n",
       "  </tbody>\n",
       "</table>\n",
       "</div>"
      ],
      "text/plain": [
       "Empty DataFrame\n",
       "Columns: [lemma, stem, pos, tag, dep]\n",
       "Index: []"
      ]
     },
     "execution_count": 50,
     "metadata": {},
     "output_type": "execute_result"
    }
   ],
   "source": [
    "r = re.compile(r'.*ly')\n",
    "lys = res.loc[res.tag.apply(lambda x: bool(r.match(x))) == True]\n",
    "lys"
   ]
  },
  {
   "cell_type": "markdown",
   "metadata": {},
   "source": [
    "Gather the resulting descriptors from above and save them for later"
   ]
  },
  {
   "cell_type": "code",
   "execution_count": 51,
   "metadata": {},
   "outputs": [
    {
     "data": {
      "text/html": [
       "<div>\n",
       "<style scoped>\n",
       "    .dataframe tbody tr th:only-of-type {\n",
       "        vertical-align: middle;\n",
       "    }\n",
       "\n",
       "    .dataframe tbody tr th {\n",
       "        vertical-align: top;\n",
       "    }\n",
       "\n",
       "    .dataframe thead th {\n",
       "        text-align: right;\n",
       "    }\n",
       "</style>\n",
       "<table border=\"1\" class=\"dataframe\">\n",
       "  <thead>\n",
       "    <tr style=\"text-align: right;\">\n",
       "      <th></th>\n",
       "      <th>lemma</th>\n",
       "      <th>stem</th>\n",
       "      <th>pos</th>\n",
       "      <th>tag</th>\n",
       "      <th>dep</th>\n",
       "    </tr>\n",
       "  </thead>\n",
       "  <tbody>\n",
       "    <tr>\n",
       "      <th>compassionate</th>\n",
       "      <td>compassionate</td>\n",
       "      <td>compassion</td>\n",
       "      <td>ADJ</td>\n",
       "      <td>JJ</td>\n",
       "      <td>acomp</td>\n",
       "    </tr>\n",
       "  </tbody>\n",
       "</table>\n",
       "</div>"
      ],
      "text/plain": [
       "                       lemma        stem  pos tag    dep\n",
       "compassionate  compassionate  compassion  ADJ  JJ  acomp"
      ]
     },
     "execution_count": 51,
     "metadata": {},
     "output_type": "execute_result"
    }
   ],
   "source": [
    "# Resulting descriptors found\n",
    "desc = pd.concat([pos,lys])\n",
    "desc"
   ]
  },
  {
   "cell_type": "markdown",
   "metadata": {},
   "source": [
    "Next, we can check the input for specific keywords and phrases."
   ]
  },
  {
   "cell_type": "code",
   "execution_count": 52,
   "metadata": {},
   "outputs": [
    {
     "data": {
      "text/html": [
       "<div>\n",
       "<style scoped>\n",
       "    .dataframe tbody tr th:only-of-type {\n",
       "        vertical-align: middle;\n",
       "    }\n",
       "\n",
       "    .dataframe tbody tr th {\n",
       "        vertical-align: top;\n",
       "    }\n",
       "\n",
       "    .dataframe thead th {\n",
       "        text-align: right;\n",
       "    }\n",
       "</style>\n",
       "<table border=\"1\" class=\"dataframe\">\n",
       "  <thead>\n",
       "    <tr style=\"text-align: right;\">\n",
       "      <th></th>\n",
       "      <th>category</th>\n",
       "      <th>feedback</th>\n",
       "      <th>feelings_guesses</th>\n",
       "      <th>kps</th>\n",
       "      <th>needs_guesses</th>\n",
       "      <th>needs_met</th>\n",
       "    </tr>\n",
       "  </thead>\n",
       "  <tbody>\n",
       "    <tr>\n",
       "      <th>i am</th>\n",
       "      <td>evaluation</td>\n",
       "      <td>you are not defined by what you feel; try inst...</td>\n",
       "      <td>na</td>\n",
       "      <td>[i am, i ams, i amming, i ammed]</td>\n",
       "      <td>na</td>\n",
       "      <td>na</td>\n",
       "    </tr>\n",
       "  </tbody>\n",
       "</table>\n",
       "</div>"
      ],
      "text/plain": [
       "        category                                           feedback  \\\n",
       "i am  evaluation  you are not defined by what you feel; try inst...   \n",
       "\n",
       "     feelings_guesses                               kps needs_guesses  \\\n",
       "i am               na  [i am, i ams, i amming, i ammed]            na   \n",
       "\n",
       "     needs_met  \n",
       "i am        na  "
      ]
     },
     "execution_count": 52,
     "metadata": {},
     "output_type": "execute_result"
    }
   ],
   "source": [
    "# Check if any common NVC phrases (from our datafile) were used in the sentence\n",
    "kp_matches = pd.DataFrame()\n",
    "for kp_base in kp_data.index:\n",
    "    if kp_base in sent:\n",
    "        kp_matches = kp_matches.append(kp_data.loc[kp_base])\n",
    "kp_matches.head()"
   ]
  },
  {
   "cell_type": "code",
   "execution_count": 53,
   "metadata": {},
   "outputs": [
    {
     "data": {
      "text/html": [
       "<div>\n",
       "<style scoped>\n",
       "    .dataframe tbody tr th:only-of-type {\n",
       "        vertical-align: middle;\n",
       "    }\n",
       "\n",
       "    .dataframe tbody tr th {\n",
       "        vertical-align: top;\n",
       "    }\n",
       "\n",
       "    .dataframe thead th {\n",
       "        text-align: right;\n",
       "    }\n",
       "</style>\n",
       "<table border=\"1\" class=\"dataframe\">\n",
       "  <thead>\n",
       "    <tr style=\"text-align: right;\">\n",
       "      <th></th>\n",
       "      <th>category</th>\n",
       "      <th>feelings_guesses</th>\n",
       "      <th>kws</th>\n",
       "      <th>needs_guesses</th>\n",
       "      <th>needs_met</th>\n",
       "    </tr>\n",
       "  </thead>\n",
       "  <tbody>\n",
       "    <tr>\n",
       "      <th>compassionate</th>\n",
       "      <td>feeling</td>\n",
       "      <td>na</td>\n",
       "      <td>[compassionate, compassionates, compassionatin...</td>\n",
       "      <td>na</td>\n",
       "      <td>yes</td>\n",
       "    </tr>\n",
       "  </tbody>\n",
       "</table>\n",
       "</div>"
      ],
      "text/plain": [
       "              category feelings_guesses  \\\n",
       "compassionate  feeling               na   \n",
       "\n",
       "                                                             kws  \\\n",
       "compassionate  [compassionate, compassionates, compassionatin...   \n",
       "\n",
       "              needs_guesses needs_met  \n",
       "compassionate            na       yes  "
      ]
     },
     "execution_count": 53,
     "metadata": {},
     "output_type": "execute_result"
    }
   ],
   "source": [
    "# Check if any common NVC keywords (from our datafile) were used in the sentence\n",
    "kw_matches = pd.DataFrame()\n",
    "for w in res.index:\n",
    "    w_lemma = en.lemma(w)\n",
    "    if w_lemma in kw_data.index:\n",
    "        kw_matches = kw_matches.append(kw_data.loc[w_lemma])\n",
    "kw_matches.head()"
   ]
  },
  {
   "cell_type": "code",
   "execution_count": 54,
   "metadata": {},
   "outputs": [
    {
     "data": {
      "text/html": [
       "<div>\n",
       "<style scoped>\n",
       "    .dataframe tbody tr th:only-of-type {\n",
       "        vertical-align: middle;\n",
       "    }\n",
       "\n",
       "    .dataframe tbody tr th {\n",
       "        vertical-align: top;\n",
       "    }\n",
       "\n",
       "    .dataframe thead th {\n",
       "        text-align: right;\n",
       "    }\n",
       "</style>\n",
       "<table border=\"1\" class=\"dataframe\">\n",
       "  <thead>\n",
       "    <tr style=\"text-align: right;\">\n",
       "      <th></th>\n",
       "      <th>category</th>\n",
       "      <th>feedback</th>\n",
       "      <th>feelings_guesses</th>\n",
       "      <th>kps</th>\n",
       "      <th>needs_guesses</th>\n",
       "      <th>needs_met</th>\n",
       "      <th>kws</th>\n",
       "    </tr>\n",
       "  </thead>\n",
       "  <tbody>\n",
       "    <tr>\n",
       "      <th>i am</th>\n",
       "      <td>evaluation</td>\n",
       "      <td>you are not defined by what you feel; try inst...</td>\n",
       "      <td>na</td>\n",
       "      <td>[i am, i ams, i amming, i ammed]</td>\n",
       "      <td>na</td>\n",
       "      <td>na</td>\n",
       "      <td>NaN</td>\n",
       "    </tr>\n",
       "    <tr>\n",
       "      <th>compassionate</th>\n",
       "      <td>feeling</td>\n",
       "      <td>NaN</td>\n",
       "      <td>na</td>\n",
       "      <td>NaN</td>\n",
       "      <td>na</td>\n",
       "      <td>yes</td>\n",
       "      <td>[compassionate, compassionates, compassionatin...</td>\n",
       "    </tr>\n",
       "  </tbody>\n",
       "</table>\n",
       "</div>"
      ],
      "text/plain": [
       "                 category                                           feedback  \\\n",
       "i am           evaluation  you are not defined by what you feel; try inst...   \n",
       "compassionate     feeling                                                NaN   \n",
       "\n",
       "              feelings_guesses                               kps  \\\n",
       "i am                        na  [i am, i ams, i amming, i ammed]   \n",
       "compassionate               na                               NaN   \n",
       "\n",
       "              needs_guesses needs_met  \\\n",
       "i am                     na        na   \n",
       "compassionate            na       yes   \n",
       "\n",
       "                                                             kws  \n",
       "i am                                                         NaN  \n",
       "compassionate  [compassionate, compassionates, compassionatin...  "
      ]
     },
     "execution_count": 54,
     "metadata": {},
     "output_type": "execute_result"
    }
   ],
   "source": [
    "matches = pd.concat([kp_matches,kw_matches])\n",
    "matches"
   ]
  },
  {
   "cell_type": "markdown",
   "metadata": {},
   "source": [
    "Let's combine the data we acquired from all the steps above to see what kind of feedback we can give the user about their input."
   ]
  },
  {
   "cell_type": "code",
   "execution_count": 55,
   "metadata": {},
   "outputs": [
    {
     "name": "stdout",
     "output_type": "stream",
     "text": [
      "['Okay, thanks for sharing.', 'I noticed that you used what I think may be one or more descriptors: compassionate.', 'Generally, descriptors are evaluations or thoughts and not observations, feelings or needs.', 'From what I understand, you are feeling compassionate and DO NOT HAVE unmet needs']\n"
     ]
    }
   ],
   "source": [
    "class Categories(Enum):\n",
    "    FEELING = 'feeling'\n",
    "    FOFEELING = 'fofeeling'\n",
    "    NEED = 'need'\n",
    "    THOUGHT = 'thought'\n",
    "    \n",
    "def build_fb_sentence(sent, matches, descriptors):\n",
    "    res = ['Okay, thanks for sharing.']\n",
    "    \n",
    "    if not descriptors.empty:\n",
    "        res += ['I noticed that you used what I think may be one or more descriptors: {0}.'.format(','.join(descriptors.index.tolist()))]\n",
    "        res += [f'Generally, descriptors are evaluations or thoughts and not observations, feelings or needs.']\n",
    "\n",
    "    if not matches.empty:\n",
    "        for kw in matches.index:\n",
    "            if bool(matches.loc[kw].category == Categories.THOUGHT.value):\n",
    "                res += [f'The phrase {kw} is a thought, not a feeling or need']\n",
    "            elif matches.loc[kw].category == Categories.FEELING.value:\n",
    "                needs = 'DO NOT' if matches.loc[kw].needs_met == 'yes' else ''\n",
    "                res += [f'From what I understand, you are feeling {kw} and {needs} HAVE unmet needs']\n",
    "            elif matches.loc[kw].category == Categories.FOFEELING.value:\n",
    "                f_guesses = matches.loc[kw].feelings_guesses\n",
    "                n_guesses = matches.loc[kw].needs_guesses\n",
    "                res += [f'{kw} is a fofeeling, perhaps you are FEELING {f_guesses} and have unmet needs like {n_guesses}']\n",
    "            elif matches.loc[kw].category == Categories.NEED.value:\n",
    "                res += [f'I understand that you have the need: {kw}']\n",
    "    else:\n",
    "        res += [f'Im not sure if you are expressing a feeling, thought, need, or fofeeling.']\n",
    "    \n",
    "    return res\n",
    "\n",
    "res = build_fb_sentence(res.index, matches, desc)\n",
    "print(res)\n",
    "\n",
    "# Play result\n",
    "engine.say(str().join(res))\n",
    "engine.runAndWait()"
   ]
  },
  {
   "cell_type": "markdown",
   "metadata": {},
   "source": [
    "## Conclusion and Discussion\n",
    "\n",
    "If we look at the part of speech and also key words/phrases we can provide some reasonably information rich feedback about the users input sentence. Next, I'd like to run a better `get_nvc_feedback()` function for a variety of user input sentences and see how it does. \n",
    "\n",
    "I'll create an nvc_toolkit module for this."
   ]
  }
 ],
 "metadata": {
  "kernelspec": {
   "display_name": "Python 3",
   "language": "python",
   "name": "python3"
  },
  "language_info": {
   "codemirror_mode": {
    "name": "ipython",
    "version": 3
   },
   "file_extension": ".py",
   "mimetype": "text/x-python",
   "name": "python",
   "nbconvert_exporter": "python",
   "pygments_lexer": "ipython3",
   "version": "3.8.5"
  }
 },
 "nbformat": 4,
 "nbformat_minor": 4
}
